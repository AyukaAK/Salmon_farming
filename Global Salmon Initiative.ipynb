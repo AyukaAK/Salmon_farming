{
 "cells": [
  {
   "cell_type": "markdown",
   "id": "c2c7e051",
   "metadata": {},
   "source": [
    "# Scrape the website of Global Salmon Initiative\n",
    "\n",
    "https://globalsalmoninitiative.org/en/sustainability-report/sustainability-indicators/\n",
    "\n"
   ]
  },
  {
   "cell_type": "code",
   "execution_count": 124,
   "id": "798983cc",
   "metadata": {},
   "outputs": [],
   "source": [
    "import pandas as pd\n",
    "import time\n",
    "from selenium import webdriver\n",
    "from selenium.webdriver.common.by import By\n",
    "from webdriver_manager.chrome import ChromeDriverManager"
   ]
  },
  {
   "cell_type": "code",
   "execution_count": 159,
   "id": "f1fc5de1",
   "metadata": {},
   "outputs": [
    {
     "name": "stdout",
     "output_type": "stream",
     "text": [
      "\n"
     ]
    },
    {
     "name": "stderr",
     "output_type": "stream",
     "text": [
      "/var/folders/dd/g69lxp4x1djctd176xmjplxh0000gp/T/ipykernel_92385/1503906442.py:1: DeprecationWarning: executable_path has been deprecated, please pass in a Service object\n",
      "  driver = webdriver.Chrome(ChromeDriverManager().install())\n"
     ]
    }
   ],
   "source": [
    "driver = webdriver.Chrome(ChromeDriverManager().install())"
   ]
  },
  {
   "cell_type": "code",
   "execution_count": 145,
   "id": "e04496fc",
   "metadata": {},
   "outputs": [],
   "source": [
    "# driver.find_elements(By.CLASS_NAME, \"countryBlock\")\n",
    "#countries = driver.find_elements(By.CLASS_NAME, \"countryBlock\")\n",
    "#countries[0].click()"
   ]
  },
  {
   "cell_type": "code",
   "execution_count": 160,
   "id": "b4d539c4",
   "metadata": {},
   "outputs": [],
   "source": [
    "driver.get(\"https://globalsalmoninitiative.org/en/sustainability-report/sustainability-indicators/\")"
   ]
  },
  {
   "cell_type": "code",
   "execution_count": 161,
   "id": "39774a10",
   "metadata": {},
   "outputs": [],
   "source": [
    "countries = driver.find_elements(By.CLASS_NAME, \"countryBlock\")"
   ]
  },
  {
   "cell_type": "code",
   "execution_count": 162,
   "id": "280320a3",
   "metadata": {},
   "outputs": [],
   "source": [
    "country_ids = ['companyCount_australia','companyCount_canada', 'companyCount_chile', 'companyCount_faroes', 'companyCount_new-zealand', 'companyCount_norway', 'companyCount_scotland']"
   ]
  },
  {
   "cell_type": "code",
   "execution_count": 173,
   "id": "5a99f892",
   "metadata": {},
   "outputs": [],
   "source": [
    "driver.get('https://globalsalmoninitiative.org/en/sustainability-report/sustainability-indicators/#aquachile')"
   ]
  },
  {
   "cell_type": "code",
   "execution_count": 174,
   "id": "e97eb30e",
   "metadata": {},
   "outputs": [
    {
     "name": "stdout",
     "output_type": "stream",
     "text": [
      "****\n",
      "****\n",
      "****\n",
      "****\n",
      "****\n",
      "****\n",
      "****\n",
      "****\n",
      "****\n"
     ]
    },
    {
     "ename": "KeyboardInterrupt",
     "evalue": "",
     "output_type": "error",
     "traceback": [
      "\u001b[0;31m---------------------------------------------------------------------------\u001b[0m",
      "\u001b[0;31mKeyboardInterrupt\u001b[0m                         Traceback (most recent call last)",
      "Input \u001b[0;32mIn [174]\u001b[0m, in \u001b[0;36m<cell line: 1>\u001b[0;34m()\u001b[0m\n\u001b[1;32m     22\u001b[0m         time\u001b[38;5;241m.\u001b[39msleep(\u001b[38;5;241m5\u001b[39m)\n\u001b[1;32m     24\u001b[0m driver\u001b[38;5;241m.\u001b[39mget(\u001b[38;5;124m\"\u001b[39m\u001b[38;5;124mhttps://globalsalmoninitiative.org/en/sustainability-report/sustainability-indicators/\u001b[39m\u001b[38;5;124m\"\u001b[39m)\n\u001b[0;32m---> 25\u001b[0m \u001b[43mtime\u001b[49m\u001b[38;5;241;43m.\u001b[39;49m\u001b[43msleep\u001b[49m\u001b[43m(\u001b[49m\u001b[38;5;241;43m10\u001b[39;49m\u001b[43m)\u001b[49m\n",
      "\u001b[0;31mKeyboardInterrupt\u001b[0m: "
     ]
    }
   ],
   "source": [
    "for country_id in country_ids[:1]:\n",
    "    driver.find_element(By.ID, country_id).click()\n",
    "    time.sleep(10)\n",
    "    companyTitles = driver.find_elements(By.CLASS_NAME, \"companyTitle\")\n",
    "    for company in companyTitles:\n",
    "        if company.is_displayed() and company.is_enabled():\n",
    "            company.click()\n",
    "            time.sleep(5)\n",
    "            # TODO: add code to scrape table data of this company\n",
    "            fishEscapes = driver.find_element(By.ID, \"fish-escapes\")\n",
    "            #print(fishEscapes.text)\n",
    "            EscapesTable = fishEscapes.find_elements(By.CLASS_NAME, 'table-bordered')\n",
    "            for table in EscapesTable:\n",
    "                year = table.find_elements(By.TAG_NAME, \"h3\")\n",
    "                if len(year)>0:\n",
    "                    print(year[0].text)\n",
    "                print(\"****\")\n",
    "            \n",
    "            ## end of code that gets data for a specific company\n",
    "            \n",
    "            driver.find_element(By.ID, \"companies-reset\").click()\n",
    "            time.sleep(5)\n",
    "    \n",
    "    driver.get(\"https://globalsalmoninitiative.org/en/sustainability-report/sustainability-indicators/\")\n",
    "    time.sleep(10)"
   ]
  },
  {
   "cell_type": "code",
   "execution_count": 85,
   "id": "c56a0de6",
   "metadata": {},
   "outputs": [],
   "source": []
  },
  {
   "cell_type": "code",
   "execution_count": null,
   "id": "942f4bf4",
   "metadata": {},
   "outputs": [],
   "source": []
  },
  {
   "cell_type": "code",
   "execution_count": 126,
   "id": "5ddc5baf",
   "metadata": {},
   "outputs": [],
   "source": [
    "driver.get(\"https://globalsalmoninitiative.org/en/sustainability-report/sustainability-indicators/\")"
   ]
  },
  {
   "cell_type": "code",
   "execution_count": 127,
   "id": "1d0e8e19",
   "metadata": {},
   "outputs": [],
   "source": [
    "companyTitles = driver.find_elements(By.CLASS_NAME, \"companyTitle\")\n",
    "    "
   ]
  },
  {
   "cell_type": "code",
   "execution_count": 128,
   "id": "1c79c3eb",
   "metadata": {},
   "outputs": [
    {
     "name": "stdout",
     "output_type": "stream",
     "text": [
      "True\n"
     ]
    },
    {
     "ename": "ElementNotInteractableException",
     "evalue": "Message: element not interactable: [object HTMLDivElement] has no size and location\n  (Session info: chrome=103.0.5060.134)\nStacktrace:\n0   chromedriver                        0x00000001091ccef9 chromedriver + 4480761\n1   chromedriver                        0x00000001091585d3 chromedriver + 4003283\n2   chromedriver                        0x0000000108deb338 chromedriver + 410424\n3   chromedriver                        0x0000000108dee1e7 chromedriver + 422375\n4   chromedriver                        0x0000000108dee086 chromedriver + 422022\n5   chromedriver                        0x0000000108dee34c chromedriver + 422732\n6   chromedriver                        0x0000000108e27ee1 chromedriver + 659169\n7   chromedriver                        0x0000000108e273c6 chromedriver + 656326\n8   chromedriver                        0x0000000108e5a4ce chromedriver + 865486\n9   chromedriver                        0x0000000108e3ea62 chromedriver + 752226\n10  chromedriver                        0x0000000108e514f1 chromedriver + 828657\n11  chromedriver                        0x0000000108e3e953 chromedriver + 751955\n12  chromedriver                        0x0000000108e14cd5 chromedriver + 580821\n13  chromedriver                        0x0000000108e15d25 chromedriver + 584997\n14  chromedriver                        0x000000010919e02d chromedriver + 4288557\n15  chromedriver                        0x00000001091a31b3 chromedriver + 4309427\n16  chromedriver                        0x00000001091a823f chromedriver + 4330047\n17  chromedriver                        0x00000001091a3dfa chromedriver + 4312570\n18  chromedriver                        0x000000010917cfef chromedriver + 4153327\n19  chromedriver                        0x00000001091bdd78 chromedriver + 4418936\n20  chromedriver                        0x00000001091bdeff chromedriver + 4419327\n21  chromedriver                        0x00000001091d4ab5 chromedriver + 4512437\n22  libsystem_pthread.dylib             0x00007ff81fbb14e1 _pthread_start + 125\n23  libsystem_pthread.dylib             0x00007ff81fbacf6b thread_start + 15\n",
     "output_type": "error",
     "traceback": [
      "\u001b[0;31m---------------------------------------------------------------------------\u001b[0m",
      "\u001b[0;31mElementNotInteractableException\u001b[0m           Traceback (most recent call last)",
      "Input \u001b[0;32mIn [128]\u001b[0m, in \u001b[0;36m<cell line: 3>\u001b[0;34m()\u001b[0m\n\u001b[1;32m      4\u001b[0m \u001b[38;5;28mprint\u001b[39m(company\u001b[38;5;241m.\u001b[39mis_enabled())\n\u001b[1;32m      5\u001b[0m \u001b[38;5;66;03m#company.click()\u001b[39;00m\n\u001b[0;32m----> 6\u001b[0m \u001b[43mActionChains\u001b[49m\u001b[43m(\u001b[49m\u001b[43mdriver\u001b[49m\u001b[43m)\u001b[49m\u001b[38;5;241;43m.\u001b[39;49m\u001b[43mmove_to_element\u001b[49m\u001b[43m(\u001b[49m\u001b[43mcompany\u001b[49m\u001b[43m)\u001b[49m\u001b[38;5;241;43m.\u001b[39;49m\u001b[43mperform\u001b[49m\u001b[43m(\u001b[49m\u001b[43m)\u001b[49m\n\u001b[1;32m      7\u001b[0m \u001b[38;5;66;03m#.click(company).perform()\u001b[39;00m\n\u001b[1;32m      8\u001b[0m time\u001b[38;5;241m.\u001b[39msleep(\u001b[38;5;241m5\u001b[39m)\n",
      "File \u001b[0;32m~/.pyenv/versions/3.10.3/lib/python3.10/site-packages/selenium/webdriver/common/action_chains.py:78\u001b[0m, in \u001b[0;36mActionChains.perform\u001b[0;34m(self)\u001b[0m\n\u001b[1;32m     74\u001b[0m \u001b[38;5;28;01mdef\u001b[39;00m \u001b[38;5;21mperform\u001b[39m(\u001b[38;5;28mself\u001b[39m):\n\u001b[1;32m     75\u001b[0m     \u001b[38;5;124;03m\"\"\"\u001b[39;00m\n\u001b[1;32m     76\u001b[0m \u001b[38;5;124;03m    Performs all stored actions.\u001b[39;00m\n\u001b[1;32m     77\u001b[0m \u001b[38;5;124;03m    \"\"\"\u001b[39;00m\n\u001b[0;32m---> 78\u001b[0m     \u001b[38;5;28;43mself\u001b[39;49m\u001b[38;5;241;43m.\u001b[39;49m\u001b[43mw3c_actions\u001b[49m\u001b[38;5;241;43m.\u001b[39;49m\u001b[43mperform\u001b[49m\u001b[43m(\u001b[49m\u001b[43m)\u001b[49m\n",
      "File \u001b[0;32m~/.pyenv/versions/3.10.3/lib/python3.10/site-packages/selenium/webdriver/common/actions/action_builder.py:88\u001b[0m, in \u001b[0;36mActionBuilder.perform\u001b[0;34m(self)\u001b[0m\n\u001b[1;32m     86\u001b[0m         enc[\u001b[38;5;124m\"\u001b[39m\u001b[38;5;124mactions\u001b[39m\u001b[38;5;124m\"\u001b[39m]\u001b[38;5;241m.\u001b[39mappend(encoded)\n\u001b[1;32m     87\u001b[0m         device\u001b[38;5;241m.\u001b[39mactions \u001b[38;5;241m=\u001b[39m []\n\u001b[0;32m---> 88\u001b[0m \u001b[38;5;28;43mself\u001b[39;49m\u001b[38;5;241;43m.\u001b[39;49m\u001b[43mdriver\u001b[49m\u001b[38;5;241;43m.\u001b[39;49m\u001b[43mexecute\u001b[49m\u001b[43m(\u001b[49m\u001b[43mCommand\u001b[49m\u001b[38;5;241;43m.\u001b[39;49m\u001b[43mW3C_ACTIONS\u001b[49m\u001b[43m,\u001b[49m\u001b[43m \u001b[49m\u001b[43menc\u001b[49m\u001b[43m)\u001b[49m\n",
      "File \u001b[0;32m~/.pyenv/versions/3.10.3/lib/python3.10/site-packages/selenium/webdriver/remote/webdriver.py:435\u001b[0m, in \u001b[0;36mWebDriver.execute\u001b[0;34m(self, driver_command, params)\u001b[0m\n\u001b[1;32m    433\u001b[0m response \u001b[38;5;241m=\u001b[39m \u001b[38;5;28mself\u001b[39m\u001b[38;5;241m.\u001b[39mcommand_executor\u001b[38;5;241m.\u001b[39mexecute(driver_command, params)\n\u001b[1;32m    434\u001b[0m \u001b[38;5;28;01mif\u001b[39;00m response:\n\u001b[0;32m--> 435\u001b[0m     \u001b[38;5;28;43mself\u001b[39;49m\u001b[38;5;241;43m.\u001b[39;49m\u001b[43merror_handler\u001b[49m\u001b[38;5;241;43m.\u001b[39;49m\u001b[43mcheck_response\u001b[49m\u001b[43m(\u001b[49m\u001b[43mresponse\u001b[49m\u001b[43m)\u001b[49m\n\u001b[1;32m    436\u001b[0m     response[\u001b[38;5;124m'\u001b[39m\u001b[38;5;124mvalue\u001b[39m\u001b[38;5;124m'\u001b[39m] \u001b[38;5;241m=\u001b[39m \u001b[38;5;28mself\u001b[39m\u001b[38;5;241m.\u001b[39m_unwrap_value(\n\u001b[1;32m    437\u001b[0m         response\u001b[38;5;241m.\u001b[39mget(\u001b[38;5;124m'\u001b[39m\u001b[38;5;124mvalue\u001b[39m\u001b[38;5;124m'\u001b[39m, \u001b[38;5;28;01mNone\u001b[39;00m))\n\u001b[1;32m    438\u001b[0m     \u001b[38;5;28;01mreturn\u001b[39;00m response\n",
      "File \u001b[0;32m~/.pyenv/versions/3.10.3/lib/python3.10/site-packages/selenium/webdriver/remote/errorhandler.py:247\u001b[0m, in \u001b[0;36mErrorHandler.check_response\u001b[0;34m(self, response)\u001b[0m\n\u001b[1;32m    245\u001b[0m         alert_text \u001b[38;5;241m=\u001b[39m value[\u001b[38;5;124m'\u001b[39m\u001b[38;5;124malert\u001b[39m\u001b[38;5;124m'\u001b[39m]\u001b[38;5;241m.\u001b[39mget(\u001b[38;5;124m'\u001b[39m\u001b[38;5;124mtext\u001b[39m\u001b[38;5;124m'\u001b[39m)\n\u001b[1;32m    246\u001b[0m     \u001b[38;5;28;01mraise\u001b[39;00m exception_class(message, screen, stacktrace, alert_text)  \u001b[38;5;66;03m# type: ignore[call-arg]  # mypy is not smart enough here\u001b[39;00m\n\u001b[0;32m--> 247\u001b[0m \u001b[38;5;28;01mraise\u001b[39;00m exception_class(message, screen, stacktrace)\n",
      "\u001b[0;31mElementNotInteractableException\u001b[0m: Message: element not interactable: [object HTMLDivElement] has no size and location\n  (Session info: chrome=103.0.5060.134)\nStacktrace:\n0   chromedriver                        0x00000001091ccef9 chromedriver + 4480761\n1   chromedriver                        0x00000001091585d3 chromedriver + 4003283\n2   chromedriver                        0x0000000108deb338 chromedriver + 410424\n3   chromedriver                        0x0000000108dee1e7 chromedriver + 422375\n4   chromedriver                        0x0000000108dee086 chromedriver + 422022\n5   chromedriver                        0x0000000108dee34c chromedriver + 422732\n6   chromedriver                        0x0000000108e27ee1 chromedriver + 659169\n7   chromedriver                        0x0000000108e273c6 chromedriver + 656326\n8   chromedriver                        0x0000000108e5a4ce chromedriver + 865486\n9   chromedriver                        0x0000000108e3ea62 chromedriver + 752226\n10  chromedriver                        0x0000000108e514f1 chromedriver + 828657\n11  chromedriver                        0x0000000108e3e953 chromedriver + 751955\n12  chromedriver                        0x0000000108e14cd5 chromedriver + 580821\n13  chromedriver                        0x0000000108e15d25 chromedriver + 584997\n14  chromedriver                        0x000000010919e02d chromedriver + 4288557\n15  chromedriver                        0x00000001091a31b3 chromedriver + 4309427\n16  chromedriver                        0x00000001091a823f chromedriver + 4330047\n17  chromedriver                        0x00000001091a3dfa chromedriver + 4312570\n18  chromedriver                        0x000000010917cfef chromedriver + 4153327\n19  chromedriver                        0x00000001091bdd78 chromedriver + 4418936\n20  chromedriver                        0x00000001091bdeff chromedriver + 4419327\n21  chromedriver                        0x00000001091d4ab5 chromedriver + 4512437\n22  libsystem_pthread.dylib             0x00007ff81fbb14e1 _pthread_start + 125\n23  libsystem_pthread.dylib             0x00007ff81fbacf6b thread_start + 15\n"
     ]
    }
   ],
   "source": [
    "from selenium.webdriver.common.action_chains import ActionChains\n",
    "\n",
    "for company in companyTitles:\n",
    "    print(company.is_enabled())\n",
    "    #company.click()\n",
    "    ActionChains(driver).move_to_element(company).perform()\n",
    "    #.click(company).perform()\n",
    "    time.sleep(5)"
   ]
  },
  {
   "cell_type": "code",
   "execution_count": null,
   "id": "e28dad2b",
   "metadata": {},
   "outputs": [],
   "source": []
  }
 ],
 "metadata": {
  "kernelspec": {
   "display_name": "Python 3 (ipykernel)",
   "language": "python",
   "name": "python3"
  },
  "language_info": {
   "codemirror_mode": {
    "name": "ipython",
    "version": 3
   },
   "file_extension": ".py",
   "mimetype": "text/x-python",
   "name": "python",
   "nbconvert_exporter": "python",
   "pygments_lexer": "ipython3",
   "version": "3.10.3"
  }
 },
 "nbformat": 4,
 "nbformat_minor": 5
}
